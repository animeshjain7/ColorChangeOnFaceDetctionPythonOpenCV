{
 "cells": [
  {
   "cell_type": "code",
   "execution_count": null,
   "metadata": {},
   "outputs": [],
   "source": [
    "import cv2\n",
    "import numpy as np\n",
    "from time import sleep\n",
    "import random\n",
    "import math\n",
    "# color = (math.floor(random.random()*256),math.floor(random.random()*256),math.floor(random.random()*256))\n",
    "\n",
    "#download the 'haarcascade_frontalface_default.xml' file from here link->https://github.com/opencv/opencv/blob/master/data/haarcascades/haarcascade_frontalface_default.xml\n",
    "# face descriptor\n",
    "fd = cv2.CascadeClassifier(cv2.data.haarcascades+'haarcascade_frontalface_default.xml') \n",
    "\n",
    "vid = cv2.VideoCapture(0)\n",
    "\n",
    "while True:\n",
    "    flag,img = vid.read()\n",
    "    if flag:\n",
    "        img_gray = cv2.cvtColor(img,cv2.COLOR_BGR2GRAY)\n",
    "        faces = fd.detectMultiScale(img_gray,1.1,5)\n",
    "\n",
    "        for x1,y1,w,h in faces:\n",
    "            cv2.rectangle(\n",
    "                img ,\n",
    "                pt1=(x1,y1) ,\n",
    "                pt2=(x1+w,y1+h), \n",
    "                color=tuple(np.random.randint(size=3,low=0,high=255,dtype='int').tolist()), #method 1 to change color\n",
    " #method 2      #(math.floor(random.random()*256),math.floor(random.random()*256),math.floor(random.random()*256)),\n",
    "                thickness=6 \n",
    "                )\n",
    "        \n",
    "        cv2.imshow('Preview',img)\n",
    "        key = cv2.waitKey(1) \n",
    "        if key == ord('x'):    #press x to exit(small x not shift+x)\n",
    "            break\n",
    "    else:\n",
    "        break\n",
    "    sleep(0.1)\n",
    "vid.release()\n",
    "cv2.destroyAllWindows()"
   ]
  }
 ],
 "metadata": {
  "language_info": {
   "name": "python"
  },
  "orig_nbformat": 4
 },
 "nbformat": 4,
 "nbformat_minor": 2
}
